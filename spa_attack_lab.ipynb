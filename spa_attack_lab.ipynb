{
 "cells": [
  {
   "cell_type": "markdown",
   "metadata": {},
   "source": [
    "# __SPA ATTACK!__\n",
    "<p> In this lab, we will be analyzing power consumption traces to extract the password without having to crack the encryption!\n",
    "</p>\n",
    "<strong>NOTES:</strong>  \n",
    "<ol>\n",
    " <li>The function expects the password to end with \"\\n\", so if you want to try the password \"1234\", you would have to pass in  \"1234\\n\".</li>\n",
    " <li>The function will only accept the following characters as valid inputs:\"abcdefghijklmnopqrstuvwxyz0123456789\" </li>\n",
    " <li>There are 100 different traces does each input to emulate \"noise\" </li>\n",
    " <li>Each trace returns an array of 3000 elements, feel free to adjust the intervals for better clarity when plotting</li>\n",
    "</ol>"
   ]
  },
  {
   "cell_type": "code",
   "execution_count": 7,
   "metadata": {},
   "outputs": [],
   "source": [
    "%matplotlib ipympl "
   ]
  },
  {
   "cell_type": "markdown",
   "metadata": {},
   "source": [
    "<strong><h4>The Lone \"h\" </h4></strong>\n",
    "<p>\n",
    "Run the cell below to see the full trace for the letter \"h\"\n",
    "</p>"
   ]
  },
  {
   "cell_type": "code",
   "execution_count": 10,
   "metadata": {},
   "outputs": [
    {
     "data": {
      "application/vnd.jupyter.widget-view+json": {
       "model_id": "60171f2ad26a49d09fe5fc0cc4641b1c",
       "version_major": 2,
       "version_minor": 0
      },
      "text/plain": [
       "Canvas(toolbar=Toolbar(toolitems=[('Home', 'Reset original view', 'home', 'home'), ('Back', 'Back to previous …"
      ]
     },
     "metadata": {},
     "output_type": "display_data"
    }
   ],
   "source": [
    "from spa_attack import *\n",
    "\n",
    "import numpy as np\n",
    "import matplotlib.pyplot as plt\n",
    "\n",
    "\n",
    "trace_amount = 3000  ##adjust the number of points plotted here (0-3000), 150 is reccomended \n",
    "\n",
    "plt.figure()\n",
    "\n",
    "data_to_plot = cap_pass_trace(f\"h\\n\")[0:trace_amount]\n",
    "plt.plot(data_to_plot,label=\"h\")\n",
    "plt.legend()\n",
    "\n",
    "plt.draw()\n",
    "plt.show()"
   ]
  },
  {
   "cell_type": "markdown",
   "metadata": {},
   "source": [
    "<strong><h4>A Pair of Letters: \"h\" and \"b\" </h4></strong>\n",
    "<p>\n",
    "Run the cell below to see the full trace for the letter \"h\". If the graph is too dense, lower the value of trace_amount. You can also zoom in.\n",
    "</p>"
   ]
  },
  {
   "cell_type": "code",
   "execution_count": 11,
   "metadata": {},
   "outputs": [
    {
     "data": {
      "application/vnd.jupyter.widget-view+json": {
       "model_id": "81d9e00de88743fa8fdce9d644c642fb",
       "version_major": 2,
       "version_minor": 0
      },
      "text/plain": [
       "Canvas(toolbar=Toolbar(toolitems=[('Home', 'Reset original view', 'home', 'home'), ('Back', 'Back to previous …"
      ]
     },
     "metadata": {},
     "output_type": "display_data"
    }
   ],
   "source": [
    "from spa_attack import *\n",
    "\n",
    "import numpy as np\n",
    "import matplotlib.pyplot as plt\n",
    "\n",
    "\n",
    "trace_amount = 150  ##adjust the number of points plotted here (0-3000), 150 is reccomended \n",
    "\n",
    "plt.figure()\n",
    "\n",
    "data_to_plot = cap_pass_trace(f\"h\\n\")[0:trace_amount]\n",
    "plt.plot(data_to_plot,label=\"h\")\n",
    "\n",
    "data_to_plot = cap_pass_trace(f\"b\\n\")[0:trace_amount]\n",
    "plt.plot(data_to_plot,label=\"n\")\n",
    "\n",
    "plt.legend()\n",
    "\n",
    "plt.draw()\n",
    "plt.show()"
   ]
  },
  {
   "cell_type": "markdown",
   "metadata": {},
   "source": [
    "<strong><h4>The Whole Shabang </h4></strong>\n",
    "<p>\n",
    "Now that we've seen the difference between the correct and incorrect plot, let's run the cell below to brute-force each letter. <br><br>\n",
    "    \n",
    "<a href=\"https://realpython.com/python-f-strings/#f-strings-a-new-and-improved-way-to-format-strings-in-python\">python f-strings</a>\n",
    "</p>"
   ]
  },
  {
   "cell_type": "code",
   "execution_count": 12,
   "metadata": {},
   "outputs": [
    {
     "data": {
      "application/vnd.jupyter.widget-view+json": {
       "model_id": "929ba360991149e6b84d3324846464d0",
       "version_major": 2,
       "version_minor": 0
      },
      "text/plain": [
       "Canvas(toolbar=Toolbar(toolitems=[('Home', 'Reset original view', 'home', 'home'), ('Back', 'Back to previous …"
      ]
     },
     "metadata": {},
     "output_type": "display_data"
    }
   ],
   "source": [
    "from spa_attack import *\n",
    "\n",
    "import numpy as np\n",
    "import matplotlib.pyplot as plt\n",
    "\n",
    "valid = \"abcdefghijklmnopqrstuvwxyz0123456789\"\n",
    "trace_amount = 300\n",
    "\n",
    "plt.figure()\n",
    "for char in valid:\n",
    "    data_to_plot = cap_pass_trace(f\"{char}\\n\")[0:trace_amount]\n",
    "    plt.plot(data_to_plot,label=char)\n",
    "plt.legend()\n",
    "\n",
    "plt.draw()\n",
    "plt.show()"
   ]
  },
  {
   "cell_type": "markdown",
   "metadata": {},
   "source": [
    "<strong><h4>Get the Flag!!! </h4></strong>"
   ]
  },
  {
   "cell_type": "code",
   "execution_count": 13,
   "metadata": {},
   "outputs": [
    {
     "name": "stdout",
     "output_type": "stream",
     "text": [
      "try again\n"
     ]
    }
   ],
   "source": [
    "from spa_attack import *\n",
    "\n",
    "password = \"\"\n",
    "\n",
    "print(flag(password))"
   ]
  },
  {
   "cell_type": "code",
   "execution_count": null,
   "metadata": {},
   "outputs": [],
   "source": []
  }
 ],
 "metadata": {
  "kernelspec": {
   "display_name": "Python 3",
   "language": "python",
   "name": "python3"
  },
  "language_info": {
   "codemirror_mode": {
    "name": "ipython",
    "version": 3
   },
   "file_extension": ".py",
   "mimetype": "text/x-python",
   "name": "python",
   "nbconvert_exporter": "python",
   "pygments_lexer": "ipython3",
   "version": "3.8.5"
  }
 },
 "nbformat": 4,
 "nbformat_minor": 4
}
